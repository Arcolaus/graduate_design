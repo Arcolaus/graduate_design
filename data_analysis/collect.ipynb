{
 "cells": [
  {
   "cell_type": "code",
   "execution_count": 15,
   "metadata": {},
   "outputs": [],
   "source": [
    "import pandas as pd\n",
    "\n",
    "rawdata=pd.read_csv(\"data/rawdata.csv\")\n",
    "rawdata.drop(\"watched_num\",axis=1,inplace=True)\n",
    "\n",
    "rawdata=pd.read_csv(\"data/tmp.csv\").merge(rawdata,how=\"outer\",on=\"work_id\")\n",
    "# rawdata=pd.read_csv(\"data/detail_kmeans_rawdata.csv\").merge(rawdata,how=\"outer\",on=\"title\")\n",
    "df=pd.read_csv(\"data/detail_kmeans_rawdata.csv\")\n",
    "\n",
    "a=df[[\"title\",\"watched_num\"]]\n",
    "\n",
    "rawdata=rawdata.merge(a,how=\"outer\",on=\"title\")\n",
    "\n",
    "rawdata.to_csv(\"data/rawdata.csv\",index=False)"
   ]
  }
 ],
 "metadata": {
  "kernelspec": {
   "display_name": "spider",
   "language": "python",
   "name": "python3"
  },
  "language_info": {
   "codemirror_mode": {
    "name": "ipython",
    "version": 3
   },
   "file_extension": ".py",
   "mimetype": "text/x-python",
   "name": "python",
   "nbconvert_exporter": "python",
   "pygments_lexer": "ipython3",
   "version": "3.11.3"
  },
  "orig_nbformat": 4
 },
 "nbformat": 4,
 "nbformat_minor": 2
}
