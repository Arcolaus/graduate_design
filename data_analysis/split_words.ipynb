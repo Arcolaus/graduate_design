{
 "cells": [
  {
   "cell_type": "code",
   "execution_count": 19,
   "metadata": {},
   "outputs": [],
   "source": [
    "import jieba as jb\n",
    "import pandas as pd\n",
    "\n",
    "excludes = {\"，\",\"：\",\"“\",\"。\",\"”\",\"、\",\"；\",\" \",\"！\",\"？\",\"　\"}\n",
    "words_count=pd.read_csv(\"data/cele_comments.csv\",header=0)\n",
    "\n",
    "words=words_count.iloc[:,-1]\n",
    "word_dic={}\n",
    "\n",
    "for item in words:\n",
    "    ls=jb.cut(str(item))\n",
    "    for word in ls:\n",
    "        word_dic[word]=word_dic.get(word,0)+1\n",
    "for word in excludes:\n",
    "    del word_dic[word]\n",
    "    \n",
    "keys_ls=list(word_dic.keys())\n",
    "values_ls=list(word_dic.values())\n",
    "\n",
    "words_count=pd.DataFrame({\"words\":keys_ls,\"times\":values_ls})\n",
    "words_count.sort_values(\"times\",ascending=False,inplace=True)\n",
    "\n",
    "stopword_df=pd.read_csv(\"data/stopwords.txt\",names=[\"stopwords\"],quoting=3,sep=\"\\t\",index_col=False)\n",
    "\n",
    "words_count=words_count[~words_count[\"words\"].isin(stopword_df[\"stopwords\"])]\n",
    "\n",
    "words_count.to_csv(\"data/cele_comments_wordscnt.csv\",index=False)\n"
   ]
  },
  {
   "cell_type": "code",
   "execution_count": 20,
   "metadata": {},
   "outputs": [],
   "source": [
    "import pandas as pd\n",
    "import jieba as jb\n",
    "\n",
    "words=pd.read_csv(\"data/movie_comments.csv\",header=0).iloc[:,-1]\n",
    "excludes = {\"，\",\"：\",\"“\",\"。\",\"”\",\"、\",\"；\",\" \",\"！\",\"？\",\"　\"}\n",
    "word_dic={}\n",
    "\n",
    "for item in words:\n",
    "    ls=jb.cut(str(item))\n",
    "    for word in ls:\n",
    "        word_dic[word]=word_dic.get(word,0)+1\n",
    "for word in excludes:\n",
    "    del word_dic[word]\n",
    "    \n",
    "keys_ls=list(word_dic.keys())\n",
    "values_ls=list(word_dic.values())\n",
    "\n",
    "words_count=pd.DataFrame({\"words\":keys_ls, \"times\":values_ls})\n",
    "words_count.sort_values(\"times\",ascending=False,inplace=True)\n",
    "\n",
    "stopword_df=pd.read_csv(\"data/stopwords.txt\",names=[\"stopwords\"],quoting=3,sep=\"\\t\",index_col=False)\n",
    "\n",
    "words_count=words_count[~words_count[\"words\"].isin(stopword_df[\"stopwords\"])]\n",
    "\n",
    "words_count.to_csv(\"data/movie_comments_wordscnt.csv\",index=False)"
   ]
  }
 ],
 "metadata": {
  "kernelspec": {
   "display_name": "spider",
   "language": "python",
   "name": "python3"
  },
  "language_info": {
   "codemirror_mode": {
    "name": "ipython",
    "version": 3
   },
   "file_extension": ".py",
   "mimetype": "text/x-python",
   "name": "python",
   "nbconvert_exporter": "python",
   "pygments_lexer": "ipython3",
   "version": "3.11.3"
  },
  "orig_nbformat": 4
 },
 "nbformat": 4,
 "nbformat_minor": 2
}
