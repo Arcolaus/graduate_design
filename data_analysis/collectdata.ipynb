{
 "cells": [
  {
   "cell_type": "code",
   "execution_count": 21,
   "metadata": {},
   "outputs": [],
   "source": [
    "import pandas as pd\n",
    "\n",
    "cele_comments=pd.read_csv(\"data/cele_comments.csv\",dtype={\"content\":str})\n",
    "movie_comments=pd.read_csv(\"data/movie_comments.csv\",dtype={\"content\":str})\n",
    "\n",
    "mixed=pd.concat([cele_comments,movie_comments])\n",
    "mixed.drop(mixed.columns[0],axis=1,inplace=True)\n",
    "\n",
    "mixed.to_csv(\"data/mixd_comments.csv\",index=False)"
   ]
  },
  {
   "cell_type": "code",
   "execution_count": null,
   "metadata": {},
   "outputs": [],
   "source": [
    "import pandas as pd\n"
   ]
  }
 ],
 "metadata": {
  "kernelspec": {
   "display_name": "spider",
   "language": "python",
   "name": "python3"
  },
  "language_info": {
   "codemirror_mode": {
    "name": "ipython",
    "version": 3
   },
   "file_extension": ".py",
   "mimetype": "text/x-python",
   "name": "python",
   "nbconvert_exporter": "python",
   "pygments_lexer": "ipython3",
   "version": "3.11.3"
  },
  "orig_nbformat": 4
 },
 "nbformat": 4,
 "nbformat_minor": 2
}
