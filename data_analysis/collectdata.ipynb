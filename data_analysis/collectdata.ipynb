{
 "cells": [
  {
   "cell_type": "code",
   "execution_count": null,
   "metadata": {},
   "outputs": [],
   "source": [
    "import pandas as pd\n",
    "\n",
    "cele_comments=pd.read_csv(\"data/cele_comments.csv\",dtype={\"content\":str})\n",
    "movie_comments=pd.read_csv(\"data/movie_comments.csv\",dtype={\"content\":str})\n",
    "\n",
    "mixed=pd.concat([cele_comments,movie_comments])\n",
    "mixed.drop(mixed.columns[0],axis=1,inplace=True)\n",
    "\n",
    "mixed.to_csv(\"data/mixd_comments.csv\",index=False)"
   ]
  },
  {
   "cell_type": "code",
   "execution_count": null,
   "metadata": {},
   "outputs": [],
   "source": [
    "import pandas as pd\n",
    "\n",
    "cele_works=pd.read_csv(\"data/cele_detail.csv\")\n",
    "movie_works=pd.read_csv(\"data/movie_detail.csv\")\n",
    "\n",
    "mixed_works=pd.concat([cele_works,movie_works])\n",
    "\n",
    "print(mixed_works.shape)\n",
    "mixed_works.drop(mixed_works.columns[0],axis=1,inplace=True)\n",
    "mixed_works.to_csv(\"data/mixed_detail.csv\",index=False)"
   ]
  },
  {
   "cell_type": "code",
   "execution_count": null,
   "metadata": {},
   "outputs": [],
   "source": [
    "import pandas as pd\n",
    "\n",
    "df=pd.read_csv(\"data/mixd_comments.csv\")\n",
    "header=[\n",
    "    \"work_id\",\n",
    "    \"rating\",\n",
    "    \"score_num\",\n",
    "    \"comment_num\",\n",
    "    \"watched_num\",\n",
    "    \"ratio\",\n",
    "    \"5star_num\",\n",
    "    \"4star_num\",\n",
    "    \"3star_num\",\n",
    "    \"2star_num\",\n",
    "    \"1star_num\",\n",
    "    ]\n",
    "comments_census=pd.DataFrame(columns=[\"work_id\"]+header[-5:])\n",
    "\n",
    "id_group=df.groupby(\"id\",sort=False)\n",
    "\n",
    "for i in id_group:\n",
    "\tcnt=i[1][\"score\"].value_counts(sort=False).sort_index(ascending=False)\n",
    "\tcnt.index=cnt.index.astype(str)\n",
    "\twork_id=i[0]\n",
    "\tcount=dict(cnt)\n",
    "\n",
    "\trecord=pd.DataFrame(\n",
    "\t\t[[\n",
    "\t\t\twork_id,\n",
    "\t\t\tcount.get(\"5\",\"0\"),\n",
    "\t\t\tcount.get(\"4\",\"0\"),\n",
    "\t\t\tcount.get(\"3\",\"0\"),\n",
    "\t\t\tcount.get(\"2\",\"0\"),\n",
    "\t\t\tcount.get(\"1\",\"0\"),\n",
    "\t\t]],\n",
    "\t\tcolumns=[\"work_id\"]+header[-5:],\n",
    "\t\t)\n",
    "\tcomments_census=pd.concat([comments_census,record],join=\"outer\")\n",
    "\n",
    "# df2=pd.read_csv(\"data/tmp.csv\")\n",
    "\n",
    "rawdata=pd.read_csv(\"data/tmp.csv\").merge(comments_census,how=\"outer\",on=\"work_id\")\n",
    "\n",
    "rawdata=pd.read_csv(\"data/mixed_detail.csv\")[[\"title\",\"rating\",\"score_num\",\"comment_num\",\"ratio\"]].merge(rawdata,how=\"outer\",on=\"title\")\n",
    "rawdata.to_csv(\"data/rawdata.csv\",index=False)\n",
    "\n",
    "\n",
    "# rawdata.drop(\"title\",axis=1,inplace=True)\n",
    "\n",
    "# rawdata.to_csv(\"data/comment_census1.csv\",index=False)\n",
    "rawdata.reindex(columns=header).to_csv(\"data/comment_census.csv\",index=False)"
   ]
  },
  {
   "cell_type": "code",
   "execution_count": null,
   "metadata": {},
   "outputs": [],
   "source": [
    "import pandas as pd\n",
    "\n",
    "df=pd.read_csv(\"data/rawdata.csv\")\n",
    "header=[\n",
    "    \"work_id\",\n",
    "    \"rating\",\n",
    "    \"score_num\",\n",
    "    \"comment_num\",\n",
    "    \"watched_num\",\n",
    "    \"ratio\",\n",
    "    \"5star_num\",\n",
    "    \"4star_num\",\n",
    "    \"3star_num\",\n",
    "    \"2star_num\",\n",
    "    \"1star_num\",\n",
    "    ]\n",
    "df.reindex(columns=header).to_csv(\"data/rawdata.csv\",index=False)"
   ]
  }
 ],
 "metadata": {
  "kernelspec": {
   "display_name": "spider",
   "language": "python",
   "name": "python3"
  },
  "language_info": {
   "codemirror_mode": {
    "name": "ipython",
    "version": 3
   },
   "file_extension": ".py",
   "mimetype": "text/x-python",
   "name": "python",
   "nbconvert_exporter": "python",
   "pygments_lexer": "ipython3",
   "version": "3.11.3"
  },
  "orig_nbformat": 4
 },
 "nbformat": 4,
 "nbformat_minor": 2
}
