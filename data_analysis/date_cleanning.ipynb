{
 "cells": [
  {
   "cell_type": "code",
   "execution_count": 21,
   "metadata": {},
   "outputs": [],
   "source": [
    "import pandas as pd\n",
    "\n",
    "# 读入爬取的原始\n",
    "# 跳过异常行数据\n",
    "# 将id作为str类型，score列由于在爬取时有[NULL]，故也采用str类型读入\n",
    "df_comments=pd.read_csv(\"../scrapy_data/contents.csv\",on_bad_lines='skip',dtype={\"id\":str,\"score\":str})\n",
    "\n",
    "# 处理score列异常数据，如果在读入时设置index_col=0，虽然可以省去下一步处理错误索引，但是这一步会极其耗时\n",
    "df_comments.drop(df_comments[df_comments['score']==\"[NULL]\"].index,inplace=True)\n",
    "\n",
    "# 删除错误的索引\n",
    "df_comments.drop(df_comments.columns[0],axis=1,inplace=True)\n",
    "\n",
    "df_comments.to_csv(\"comments.csv\")"
   ]
  }
 ],
 "metadata": {
  "kernelspec": {
   "display_name": "spider",
   "language": "python",
   "name": "python3"
  },
  "language_info": {
   "codemirror_mode": {
    "name": "ipython",
    "version": 3
   },
   "file_extension": ".py",
   "mimetype": "text/x-python",
   "name": "python",
   "nbconvert_exporter": "python",
   "pygments_lexer": "ipython3",
   "version": "3.11.3"
  },
  "orig_nbformat": 4
 },
 "nbformat": 4,
 "nbformat_minor": 2
}
