{
 "cells": [
  {
   "cell_type": "code",
   "execution_count": 16,
   "metadata": {},
   "outputs": [],
   "source": [
    "import pandas as pd\n",
    "\n",
    "# 读入爬取的原始评论\n",
    "# 跳过异常行数据\n",
    "# 将id作为str类型，score列由于在爬取时有[NULL]，故也采用str类型读入\n",
    "df_comments=pd.read_csv(\"../scrapy_data/contents.csv\",on_bad_lines='skip',dtype={\"id\":str,\"score\":str})\n",
    "\n",
    "# 处理score列异常数据，如果在读入时设置index_col=0，虽然可以省去下一步处理错误索引，但是这一步会极其耗时\n",
    "df_comments.drop(df_comments[df_comments['score']==\"[NULL]\"].index,inplace=True)\n",
    "\n",
    "# 删除错误的索引\n",
    "df_comments.drop(df_comments.columns[0],axis=1,inplace=True)\n",
    "\n",
    "# 删除重复评论\n",
    "df_comments.drop_duplicates(subset=[\"content\"],inplace=True)\n",
    "\n",
    "# 评分区间从1-5分，改为2、4、6、8、10分，便于之后数据处理对于\n",
    "# score_columns=df_comments[\"score\"]\n",
    "# update_columns=list(map(lambda x:int(x)*2,df_comments[\"score\"]))\n",
    "# df_comments[\"score\"]=update_columns\n",
    "\n",
    "df_comments.to_csv(\"movie_comments.csv\")\n"
   ]
  },
  {
   "cell_type": "code",
   "execution_count": 11,
   "metadata": {},
   "outputs": [
    {
     "name": "stdout",
     "output_type": "stream",
     "text": [
      "   Unnamed: 0    title    work_id  score_num  watched_num  comment_num   \n",
      "0           0     霸王别姬  [work_id]    2097548      3545877       445761  \\\n",
      "1           1     阿甘正传  [work_id]    2119253      3838521       355053   \n",
      "2           2    泰坦尼克号  [work_id]    2135463      3957269       428015   \n",
      "3           3   肖申克的救赎  [work_id]    2830326      4617672       554219   \n",
      "4           4  这个杀手不太冷  [work_id]    2253172      4140356       384261   \n",
      "\n",
      "      ratio  \n",
      "0  0.212515  \n",
      "1  0.167537  \n",
      "2  0.200432  \n",
      "3  0.195815  \n",
      "4  0.170542  \n"
     ]
    }
   ],
   "source": [
    "import pandas as pd\n",
    "\n",
    "df=pd.read_csv(\"../scrapy_data/ml_work_detail.csv\",index_col=False)\n",
    "\n",
    "print(df.head())\n",
    "\n",
    "df.drop([df.columns[0]],axis=1,inplace=True)\n",
    "df.drop(columns=[\"work_id\"],inplace=True)\n",
    "\n",
    "df.to_csv(\"data/detail_kmeans_rawdata.csv\",index=False)"
   ]
  }
 ],
 "metadata": {
  "kernelspec": {
   "display_name": "spider",
   "language": "python",
   "name": "python3"
  },
  "language_info": {
   "codemirror_mode": {
    "name": "ipython",
    "version": 3
   },
   "file_extension": ".py",
   "mimetype": "text/x-python",
   "name": "python",
   "nbconvert_exporter": "python",
   "pygments_lexer": "ipython3",
   "version": "3.11.3"
  },
  "orig_nbformat": 4
 },
 "nbformat": 4,
 "nbformat_minor": 2
}
