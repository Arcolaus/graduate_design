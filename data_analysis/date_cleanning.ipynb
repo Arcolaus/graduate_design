{
 "cells": [
  {
   "cell_type": "code",
   "execution_count": 16,
   "metadata": {},
   "outputs": [],
   "source": [
    "import pandas as pd\n",
    "\n",
    "# 读入爬取的原始评论\n",
    "# 跳过异常行数据\n",
    "# 将id作为str类型，score列由于在爬取时有[NULL]，故也采用str类型读入\n",
    "df_comments=pd.read_csv(\"../scrapy_data/contents.csv\",on_bad_lines='skip',dtype={\"id\":str,\"score\":str})\n",
    "\n",
    "# 处理score列异常数据，如果在读入时设置index_col=0，虽然可以省去下一步处理错误索引，但是这一步会极其耗时\n",
    "df_comments.drop(df_comments[df_comments['score']==\"[NULL]\"].index,inplace=True)\n",
    "\n",
    "# 删除错误的索引\n",
    "df_comments.drop(df_comments.columns[0],axis=1,inplace=True)\n",
    "\n",
    "# 删除重复评论\n",
    "df_comments.drop_duplicates(subset=[\"content\"],inplace=True)\n",
    "\n",
    "# 评分区间从1-5分，改为2、4、6、8、10分，便于之后数据处理对于\n",
    "# score_columns=df_comments[\"score\"]\n",
    "# update_columns=list(map(lambda x:int(x)*2,df_comments[\"score\"]))\n",
    "# df_comments[\"score\"]=update_columns\n",
    "\n",
    "df_comments.to_csv(\"movie_comments.csv\")\n"
   ]
  },
  {
   "cell_type": "code",
   "execution_count": null,
   "metadata": {},
   "outputs": [],
   "source": [
    "import pandas as pd\n",
    "\n",
    "df_movie_list=pd.read_csv(\"../scrapy_data/movie_list.csv\")\n",
    "\n",
    "df_movie_list.drop(df_movie_list.columns[0],axis=1,inplace=True)\n",
    "\n",
    "df_movie_list.to_csv(\"movie_list.csv\")"
   ]
  },
  {
   "cell_type": "code",
   "execution_count": null,
   "metadata": {},
   "outputs": [],
   "source": [
    "import pandas as pd\n",
    "\n",
    "df_movie_detail=pd.read_csv(\"../scrapy_data/detail.csv\")\n",
    "\n",
    "df_movie_detail.drop(df_movie_detail.columns[0],axis=1,inplace=True)\n",
    "\n",
    "df_movie_detail.drop_duplicates(subset=[\"id\"],inplace=True)\n",
    "\n",
    "df_movie_detail.to_csv(\"movie_detail.csv\")"
   ]
  }
 ],
 "metadata": {
  "kernelspec": {
   "display_name": "spider",
   "language": "python",
   "name": "python3"
  },
  "language_info": {
   "codemirror_mode": {
    "name": "ipython",
    "version": 3
   },
   "file_extension": ".py",
   "mimetype": "text/x-python",
   "name": "python",
   "nbconvert_exporter": "python",
   "pygments_lexer": "ipython3",
   "version": "3.11.3"
  },
  "orig_nbformat": 4
 },
 "nbformat": 4,
 "nbformat_minor": 2
}
