{
 "cells": [
  {
   "cell_type": "code",
   "execution_count": 3,
   "metadata": {},
   "outputs": [
    {
     "name": "stdout",
     "output_type": "stream",
     "text": [
      "37 139\n"
     ]
    }
   ],
   "source": [
    "import pandas as pd\n",
    "import matplotlib.pyplot as plt\n",
    "import numpy as np\n",
    "\n",
    "from  sklearn.cluster import KMeans\n",
    "\n",
    "\n",
    "raw_data=pd.read_csv(\"data/detail_kmeans_rawdata.csv\")\n",
    "\n",
    "X=raw_data[[\"score_num\",\"watched_num\",\"comment_num\",\"ratio\"]]\n",
    "\n",
    "\n",
    "km=KMeans(n_clusters=2,n_init=10,algorithm=\"elkan\")\n",
    "km.fit(X)\n",
    "\n",
    "labels=km.labels_\n",
    "print(np.count_nonzero(labels==0),np.count_nonzero(labels==1))\n",
    "\n",
    "# fig=plt.figure(figsize=(10,10))\n",
    "# ax=fig.add_axes([0,0,1,1])\n",
    "\n",
    "# ax.scatter(X[\"ratio\"],X[\"ratio\"],c=labels,cmap=\"coolwarm\")\n",
    "# plt.show()"
   ]
  }
 ],
 "metadata": {
  "kernelspec": {
   "display_name": "spider",
   "language": "python",
   "name": "python3"
  },
  "language_info": {
   "codemirror_mode": {
    "name": "ipython",
    "version": 3
   },
   "file_extension": ".py",
   "mimetype": "text/x-python",
   "name": "python",
   "nbconvert_exporter": "python",
   "pygments_lexer": "ipython3",
   "version": "3.11.3"
  },
  "orig_nbformat": 4
 },
 "nbformat": 4,
 "nbformat_minor": 2
}
