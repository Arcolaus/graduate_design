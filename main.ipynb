{
 "cells": [
  {
   "cell_type": "code",
   "execution_count": 10,
   "metadata": {},
   "outputs": [
    {
     "name": "stdout",
     "output_type": "stream",
     "text": [
      "     title  score_num  watched_num  comment_num     ratio\n",
      "0     霸王别姬    2097548      3545877       445761  0.212515\n",
      "1     阿甘正传    2119253      3838521       355053  0.167537\n",
      "2    泰坦尼克号    2135463      3957269       428015  0.200432\n",
      "3   肖申克的救赎    2830326      4617672       554219  0.195815\n",
      "4  这个杀手不太冷    2253172      4140356       384261  0.170542\n",
      "     title  work_id                                        url\n",
      "0   肖申克的救赎  1292052  https://movie.douban.com/subject/1292052/\n",
      "1     霸王别姬  1291546  https://movie.douban.com/subject/1291546/\n",
      "2     阿甘正传  1292720  https://movie.douban.com/subject/1292720/\n",
      "3    泰坦尼克号  1292722  https://movie.douban.com/subject/1292722/\n",
      "4  这个杀手不太冷  1295644  https://movie.douban.com/subject/1295644/\n",
      "None\n"
     ]
    }
   ],
   "source": [
    "import pandas as pd\n",
    "\n",
    "d1=pd.read_csv(\"./scrapy_data/ml_work_detail.csv\")\n",
    "d2=pd.read_csv(\"./scrapy_data/ml_work_list.csv\")\n",
    "\n",
    "d3=d1.merge(d2,how=\"outer\",on=\"title\")\n",
    "\n",
    "\n",
    "\n",
    "print(d1.head())\n",
    "print(d2.head())\n",
    "print(d3[[\"title\",\"work_id\"]].to_csv(\"tmp.csv\",index=False))\n"
   ]
  }
 ],
 "metadata": {
  "kernelspec": {
   "display_name": "graduate",
   "language": "python",
   "name": "python3"
  },
  "language_info": {
   "codemirror_mode": {
    "name": "ipython",
    "version": 3
   },
   "file_extension": ".py",
   "mimetype": "text/x-python",
   "name": "python",
   "nbconvert_exporter": "python",
   "pygments_lexer": "ipython3",
   "version": "3.11.3"
  },
  "orig_nbformat": 4,
  "vscode": {
   "interpreter": {
    "hash": "6d7688bbdbf76f692cc29b8123d67d470615686f52416eef8ef9099ed873710d"
   }
  }
 },
 "nbformat": 4,
 "nbformat_minor": 2
}
