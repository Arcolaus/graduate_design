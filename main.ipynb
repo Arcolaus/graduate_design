{
 "cells": [
  {
   "cell_type": "code",
   "execution_count": 6,
   "metadata": {},
   "outputs": [
    {
     "name": "stdout",
     "output_type": "stream",
     "text": [
      "http://171.92.20.8:9000\n",
      "http://123.169.39.212:9999\n",
      "http://182.139.111.149:9000\n",
      "http://61.216.156.222:60808\n",
      "http://182.34.102.50:9999\n",
      "http://61.216.156.222:60808\n",
      "http://182.139.110.18:9000\n",
      "http://222.74.73.202:42055\n",
      "http://114.233.70.231:9000\n",
      "http://123.169.39.212:9999\n"
     ]
    }
   ],
   "source": [
    "import random\n",
    "import pandas as pd\n",
    "\n",
    "df=pd.read_csv(\"./scrapy_data/proxy_list.csv\")\n",
    "\n",
    "for i in range(10):\n",
    "\tprint(random.choice(df[\"proxy_url\"]))"
   ]
  }
 ],
 "metadata": {
  "kernelspec": {
   "display_name": "graduate",
   "language": "python",
   "name": "python3"
  },
  "language_info": {
   "codemirror_mode": {
    "name": "ipython",
    "version": 3
   },
   "file_extension": ".py",
   "mimetype": "text/x-python",
   "name": "python",
   "nbconvert_exporter": "python",
   "pygments_lexer": "ipython3",
   "version": "3.11.3"
  },
  "orig_nbformat": 4,
  "vscode": {
   "interpreter": {
    "hash": "6d7688bbdbf76f692cc29b8123d67d470615686f52416eef8ef9099ed873710d"
   }
  }
 },
 "nbformat": 4,
 "nbformat_minor": 2
}
