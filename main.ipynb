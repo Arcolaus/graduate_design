{
 "cells": [
  {
   "cell_type": "code",
   "execution_count": 1,
   "metadata": {},
   "outputs": [
    {
     "name": "stdout",
     "output_type": "stream",
     "text": [
      "init test\n"
     ]
    }
   ],
   "source": [
    "print(\"init test\")"
   ]
  }
 ],
 "metadata": {
  "kernelspec": {
   "display_name": "graduate",
   "language": "python",
   "name": "python3"
  },
  "language_info": {
   "codemirror_mode": {
    "name": "ipython",
    "version": 3
   },
   "file_extension": ".py",
   "mimetype": "text/x-python",
   "name": "python",
   "nbconvert_exporter": "python",
   "pygments_lexer": "ipython3",
   "version": "3.10.9"
  },
  "orig_nbformat": 4,
  "vscode": {
   "interpreter": {
    "hash": "6d7688bbdbf76f692cc29b8123d67d470615686f52416eef8ef9099ed873710d"
   }
  }
 },
 "nbformat": 4,
 "nbformat_minor": 2
}
