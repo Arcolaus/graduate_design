{
 "cells": [
  {
   "cell_type": "code",
   "execution_count": 3,
   "metadata": {},
   "outputs": [
    {
     "name": "stdout",
     "output_type": "stream",
     "text": [
      "当前 IP：45.59.187.243  来自于：美国 加利福尼亚州 圣何塞  dmit.io\n",
      "\n",
      "耗时：976ms\n"
     ]
    }
   ],
   "source": [
    "#! /usr/bin/python\n",
    "# coding=utf-8\n",
    "import requests\n",
    "import time\n",
    "# 请求地址\n",
    "targetUrl = \"http://myip.ipip.net\"\n",
    "#\n",
    "# #代理服务器\n",
    "proxyHost = \"127.0.0.1\"\n",
    "proxyPort = 7890\n",
    "\n",
    "#非账号密码验证\n",
    "proxyMeta = \"socks5://%(host)s:%(port)s\" % {\n",
    "\n",
    "    \"host\": proxyHost,\n",
    "    \"port\": proxyPort,\n",
    "}\n",
    "#账号密码验证\n",
    "#proxyMeta = \"http://账号:密码@%(host)s:%(port)s\" % {\n",
    "#    \"host\": proxyHost,\n",
    "#    \"port\": proxyPort,\n",
    "#}\n",
    "\n",
    "#\n",
    "# #pip install -U requests[socks]  socks5代理\n",
    "#非账号密码验证\n",
    "# proxyMeta = \"socks5://%(host)s:%(port)s\" % {\n",
    "#\n",
    "#     \"host\" : proxyHost,\n",
    "#\n",
    "#     \"port\" : proxyPort,\n",
    "#\n",
    "# }\n",
    "#账号密码验证\n",
    "# proxyMeta = \"socks5://账号:密码%(host)s:%(port)s\" % {\n",
    "#\n",
    "#     \"host\" : proxyHost,\n",
    "#\n",
    "#     \"port\" : proxyPort,\n",
    "#\n",
    "# }\n",
    "#\n",
    "\n",
    "proxies = {\n",
    "    \"http\": proxyMeta,\n",
    "    \"https\": proxyMeta\n",
    "}\n",
    "#\n",
    "start = int(round(time.time() * 1000))\n",
    "resp = requests.get(targetUrl, proxies=proxies,timeout=10)\n",
    "costTime = int(round(time.time() * 1000)) - start\n",
    "print(resp.text)\n",
    "print(\"耗时：\" + str(costTime) + \"ms\")\n",
    "\n"
   ]
  }
 ],
 "metadata": {
  "kernelspec": {
   "display_name": "graduate",
   "language": "python",
   "name": "python3"
  },
  "language_info": {
   "codemirror_mode": {
    "name": "ipython",
    "version": 3
   },
   "file_extension": ".py",
   "mimetype": "text/x-python",
   "name": "python",
   "nbconvert_exporter": "python",
   "pygments_lexer": "ipython3",
   "version": "3.11.0"
  },
  "orig_nbformat": 4,
  "vscode": {
   "interpreter": {
    "hash": "6d7688bbdbf76f692cc29b8123d67d470615686f52416eef8ef9099ed873710d"
   }
  }
 },
 "nbformat": 4,
 "nbformat_minor": 2
}
