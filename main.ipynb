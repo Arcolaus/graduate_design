{
 "cells": [
  {
   "cell_type": "code",
   "execution_count": 47,
   "metadata": {},
   "outputs": [
    {
     "name": "stdout",
     "output_type": "stream",
     "text": [
      "{\"msg\": \"\", \"code\": 0, \"data\": {\"expire\": 1253, \"secret_token\": \"o0eiedvjs7ghnra26v6lxvmcb0\"}}\n"
     ]
    }
   ],
   "source": [
    "import requests\n",
    "import json\n",
    "\n",
    "secret_id=\"oxxj0f0lr88v4ufcxbts\"\n",
    "secret_key=\"jye818mqd8jue46cz2gpeehjdmom8mq3\"\n",
    "signature=\"o0eiedvjs7ghnra26v6lxvmcb0\"\n",
    "\n",
    "def get_signature():\n",
    "    url=\"https://auth.kdlapi.com/api/get_secret_token\"\n",
    "    data={\n",
    "  \t\t\"secret_id\":\"oxxj0f0lr88v4ufcxbts\",\n",
    " \t\t\"secret_key\":\"jye818mqd8jue46cz2gpeehjdmom8mq3\"\n",
    "\t}\n",
    "    js=json.loads(requests.post(url,data=data).text)\n",
    "    print(js.get(\"data\").get(\"secret_token\"))\n",
    "    return requests.post(url,data=data).text\n",
    "\n",
    "# url=\"https://tps.kdlapi.com/api/tpscurrentip?secret_id={}&signature={}\".format(secret_id,signature)\n",
    "# url=\"https://tps.kdlapi.com/api/changetpsip?secret_id=oxxj0f0lr88v4ufcxbts&signature=o11pi7ztttolic4h0qhdmlcbjd\"\n",
    "\n",
    "print(get_signature())\n",
    "# get_signature()\n"
   ]
  }
 ],
 "metadata": {
  "kernelspec": {
   "display_name": "graduate",
   "language": "python",
   "name": "python3"
  },
  "language_info": {
   "codemirror_mode": {
    "name": "ipython",
    "version": 3
   },
   "file_extension": ".py",
   "mimetype": "text/x-python",
   "name": "python",
   "nbconvert_exporter": "python",
   "pygments_lexer": "ipython3",
   "version": "3.11.3"
  },
  "orig_nbformat": 4,
  "vscode": {
   "interpreter": {
    "hash": "6d7688bbdbf76f692cc29b8123d67d470615686f52416eef8ef9099ed873710d"
   }
  }
 },
 "nbformat": 4,
 "nbformat_minor": 2
}
